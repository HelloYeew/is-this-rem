{
 "cells": [
  {
   "cell_type": "markdown",
   "id": "2589398d95a85dea",
   "metadata": {
    "collapsed": false,
    "jupyter": {
     "outputs_hidden": false
    }
   },
   "source": [
    "# Train a model"
   ]
  },
  {
   "cell_type": "code",
   "execution_count": 1,
   "id": "initial_id",
   "metadata": {
    "ExecuteTime": {
     "end_time": "2024-01-19T18:48:10.361419Z",
     "start_time": "2024-01-19T18:48:08.680498Z"
    }
   },
   "outputs": [],
   "source": [
    "!pip install -Uqq fastai"
   ]
  },
  {
   "cell_type": "code",
   "execution_count": 2,
   "id": "afab36677dc17b42",
   "metadata": {
    "ExecuteTime": {
     "end_time": "2024-01-19T18:48:10.366421Z",
     "start_time": "2024-01-19T18:48:10.362808Z"
    },
    "collapsed": false,
    "jupyter": {
     "outputs_hidden": false
    }
   },
   "outputs": [],
   "source": [
    "from fastai.vision.all import *"
   ]
  },
  {
   "cell_type": "markdown",
   "id": "57311b08454cda95",
   "metadata": {
    "collapsed": false,
    "jupyter": {
     "outputs_hidden": false
    }
   },
   "source": [
    "Data source : \n",
    "- [Anime Female Characters Dataset with Names](https://www.kaggle.com/datasets/ayushbajpai16/anime-female-characters-dataset-with-names?select=Renamed_Images_2)\n",
    "- [Re:Zero Rem Anime Faces For GAN Training](https://www.kaggle.com/datasets/andy8744/rezero-rem-anime-faces-for-gan-training)\n",
    "\n",
    "Download and don't move the dataset in same folder yet, we need to mark the image that is Rem in Rem dataset.\n",
    "\n",
    "```bash\n",
    "for file in *.jpg\n",
    "do\n",
    "  mv \"$file\" \"rem$file\"\n",
    "done\n",
    "\n",
    "for file in *.png\n",
    "do\n",
    "  mv \"$file\" \"rem$file\"\n",
    "done\n",
    "```\n",
    "\n",
    "Then merge all two dataset into one folder, the image that's Rem will have the name start with `rem`. In this case I use `train` folder as the dataset folder."
   ]
  },
  {
   "cell_type": "code",
   "execution_count": 3,
   "id": "1969412271e610f0",
   "metadata": {
    "ExecuteTime": {
     "end_time": "2024-01-19T18:45:38.700899Z",
     "start_time": "2024-01-19T18:45:38.689397Z"
    },
    "collapsed": false,
    "jupyter": {
     "outputs_hidden": false
    }
   },
   "outputs": [],
   "source": [
    "# Get list of image in \n",
    "path = Path('train')\n",
    "fnames = get_image_files(path)"
   ]
  },
  {
   "cell_type": "code",
   "execution_count": 4,
   "id": "cc9e41e8b1df93e0",
   "metadata": {
    "ExecuteTime": {
     "end_time": "2024-01-19T18:46:24.408039Z",
     "start_time": "2024-01-19T18:46:24.406521Z"
    },
    "collapsed": false,
    "jupyter": {
     "outputs_hidden": false
    }
   },
   "outputs": [],
   "source": [
    "# Get label from the image name without extension\n",
    "def name_label_func(fname):\n",
    "    return 'rem' in fname.lower()"
   ]
  },
  {
   "cell_type": "markdown",
   "id": "347b53e71209ff9c",
   "metadata": {
    "collapsed": false,
    "jupyter": {
     "outputs_hidden": false
    }
   },
   "source": [
    "Create data loader"
   ]
  },
  {
   "cell_type": "code",
   "execution_count": 5,
   "id": "1a04a2b42504b394",
   "metadata": {
    "ExecuteTime": {
     "end_time": "2024-01-19T18:46:26.418346Z",
     "start_time": "2024-01-19T18:46:26.132440Z"
    },
    "collapsed": false,
    "jupyter": {
     "outputs_hidden": false
    }
   },
   "outputs": [],
   "source": [
    "image_data_loader = ImageDataLoaders.from_name_func('.', get_image_files(path), valid_pct=0.2, seed=42, label_func=name_label_func, item_tfms=Resize(224))"
   ]
  },
  {
   "cell_type": "markdown",
   "id": "7d75261c273637df",
   "metadata": {
    "collapsed": false,
    "jupyter": {
     "outputs_hidden": false
    }
   },
   "source": [
    "Train the model"
   ]
  },
  {
   "cell_type": "code",
   "execution_count": 6,
   "id": "9f7a095eda08d113",
   "metadata": {
    "collapsed": false,
    "jupyter": {
     "outputs_hidden": false
    }
   },
   "outputs": [
    {
     "data": {
      "text/html": [
       "\n",
       "<style>\n",
       "    /* Turns off some styling */\n",
       "    progress {\n",
       "        /* gets rid of default border in Firefox and Opera. */\n",
       "        border: none;\n",
       "        /* Needs to be in here for Safari polyfill so background images work as expected. */\n",
       "        background-size: auto;\n",
       "    }\n",
       "    progress:not([value]), progress:not([value])::-webkit-progress-bar {\n",
       "        background: repeating-linear-gradient(45deg, #7e7e7e, #7e7e7e 10px, #5c5c5c 10px, #5c5c5c 20px);\n",
       "    }\n",
       "    .progress-bar-interrupted, .progress-bar-interrupted::-webkit-progress-bar {\n",
       "        background: #F44336;\n",
       "    }\n",
       "</style>\n"
      ],
      "text/plain": [
       "<IPython.core.display.HTML object>"
      ]
     },
     "metadata": {},
     "output_type": "display_data"
    },
    {
     "data": {
      "text/html": [
       "<table border=\"1\" class=\"dataframe\">\n",
       "  <thead>\n",
       "    <tr style=\"text-align: left;\">\n",
       "      <th>epoch</th>\n",
       "      <th>train_loss</th>\n",
       "      <th>valid_loss</th>\n",
       "      <th>error_rate</th>\n",
       "      <th>time</th>\n",
       "    </tr>\n",
       "  </thead>\n",
       "  <tbody>\n",
       "    <tr>\n",
       "      <td>0</td>\n",
       "      <td>0.521037</td>\n",
       "      <td>0.201873</td>\n",
       "      <td>0.067177</td>\n",
       "      <td>00:42</td>\n",
       "    </tr>\n",
       "  </tbody>\n",
       "</table>"
      ],
      "text/plain": [
       "<IPython.core.display.HTML object>"
      ]
     },
     "metadata": {},
     "output_type": "display_data"
    },
    {
     "data": {
      "text/html": [
       "\n",
       "<style>\n",
       "    /* Turns off some styling */\n",
       "    progress {\n",
       "        /* gets rid of default border in Firefox and Opera. */\n",
       "        border: none;\n",
       "        /* Needs to be in here for Safari polyfill so background images work as expected. */\n",
       "        background-size: auto;\n",
       "    }\n",
       "    progress:not([value]), progress:not([value])::-webkit-progress-bar {\n",
       "        background: repeating-linear-gradient(45deg, #7e7e7e, #7e7e7e 10px, #5c5c5c 10px, #5c5c5c 20px);\n",
       "    }\n",
       "    .progress-bar-interrupted, .progress-bar-interrupted::-webkit-progress-bar {\n",
       "        background: #F44336;\n",
       "    }\n",
       "</style>\n"
      ],
      "text/plain": [
       "<IPython.core.display.HTML object>"
      ]
     },
     "metadata": {},
     "output_type": "display_data"
    },
    {
     "data": {
      "text/html": [
       "<table border=\"1\" class=\"dataframe\">\n",
       "  <thead>\n",
       "    <tr style=\"text-align: left;\">\n",
       "      <th>epoch</th>\n",
       "      <th>train_loss</th>\n",
       "      <th>valid_loss</th>\n",
       "      <th>error_rate</th>\n",
       "      <th>time</th>\n",
       "    </tr>\n",
       "  </thead>\n",
       "  <tbody>\n",
       "    <tr>\n",
       "      <td>0</td>\n",
       "      <td>0.096774</td>\n",
       "      <td>0.043177</td>\n",
       "      <td>0.009354</td>\n",
       "      <td>00:41</td>\n",
       "    </tr>\n",
       "    <tr>\n",
       "      <td>1</td>\n",
       "      <td>0.043704</td>\n",
       "      <td>0.025888</td>\n",
       "      <td>0.004252</td>\n",
       "      <td>00:39</td>\n",
       "    </tr>\n",
       "    <tr>\n",
       "      <td>2</td>\n",
       "      <td>0.032872</td>\n",
       "      <td>0.039532</td>\n",
       "      <td>0.005102</td>\n",
       "      <td>00:39</td>\n",
       "    </tr>\n",
       "    <tr>\n",
       "      <td>3</td>\n",
       "      <td>0.017647</td>\n",
       "      <td>0.022914</td>\n",
       "      <td>0.003401</td>\n",
       "      <td>00:40</td>\n",
       "    </tr>\n",
       "    <tr>\n",
       "      <td>4</td>\n",
       "      <td>0.007855</td>\n",
       "      <td>0.024540</td>\n",
       "      <td>0.003401</td>\n",
       "      <td>00:41</td>\n",
       "    </tr>\n",
       "  </tbody>\n",
       "</table>"
      ],
      "text/plain": [
       "<IPython.core.display.HTML object>"
      ]
     },
     "metadata": {},
     "output_type": "display_data"
    }
   ],
   "source": [
    "learner = vision_learner(image_data_loader, resnet18, metrics=error_rate)\n",
    "learner.fine_tune(5)"
   ]
  },
  {
   "cell_type": "markdown",
   "id": "2b430c6935b782f1",
   "metadata": {
    "collapsed": false,
    "jupyter": {
     "outputs_hidden": false
    }
   },
   "source": [
    "Export the model"
   ]
  },
  {
   "cell_type": "code",
   "execution_count": 7,
   "id": "b647fd3cfa15c453",
   "metadata": {
    "collapsed": false,
    "jupyter": {
     "outputs_hidden": false
    }
   },
   "outputs": [
    {
     "name": "stdout",
     "output_type": "stream",
     "text": [
      "train\n"
     ]
    }
   ],
   "source": [
    "learner.freeze()\n",
    "learner.export('model.pkl')\n",
    "print(path)"
   ]
  },
  {
   "cell_type": "code",
   "execution_count": null,
   "id": "0aa3823d-070f-4e46-871c-fbc0674f832b",
   "metadata": {},
   "outputs": [],
   "source": []
  }
 ],
 "metadata": {
  "kernelspec": {
   "display_name": "Python 3 (ipykernel)",
   "language": "python",
   "name": "python3"
  },
  "language_info": {
   "codemirror_mode": {
    "name": "ipython",
    "version": 3
   },
   "file_extension": ".py",
   "mimetype": "text/x-python",
   "name": "python",
   "nbconvert_exporter": "python",
   "pygments_lexer": "ipython3",
   "version": "3.11.7"
  }
 },
 "nbformat": 4,
 "nbformat_minor": 5
}
